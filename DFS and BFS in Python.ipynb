{
 "cells": [
  {
   "cell_type": "markdown",
   "id": "9043f5f9",
   "metadata": {},
   "source": [
    "BFS Implementation"
   ]
  },
  {
   "cell_type": "code",
   "execution_count": 1,
   "id": "6d796811",
   "metadata": {},
   "outputs": [],
   "source": [
    "from queue import Queue"
   ]
  },
  {
   "cell_type": "code",
   "execution_count": 2,
   "id": "e278aa3b",
   "metadata": {},
   "outputs": [],
   "source": [
    "graph = {\n",
    "            5 : [3, 7],\n",
    "            3 : [2, 4],\n",
    "            7 : [8, 9],\n",
    "            2 : [10],\n",
    "            4 : [8],\n",
    "            8 : [],\n",
    "            9 : [],\n",
    "            10 : []\n",
    "        }\n",
    "\n",
    "# graph = {\n",
    "#             0:[1, 3],\n",
    "#             1:[3, 2, 5],\n",
    "#             3:[0, 1, 2, 4],\n",
    "#             2:[1, 3, 5, 4],\n",
    "#             4:[3, 2, 6],\n",
    "#             6:[4, 1],\n",
    "#             5:[1, 2],\n",
    "#             8:[]\n",
    "#         }"
   ]
  },
  {
   "cell_type": "code",
   "execution_count": 3,
   "id": "3c64acbe",
   "metadata": {},
   "outputs": [],
   "source": [
    "def BFS(graph, starting_node, target_node):\n",
    "    \n",
    "    BFS_path = []\n",
    "    \n",
    "    visited_nodes = list()\n",
    "    queue = Queue()\n",
    "    \n",
    "    queue.put(starting_node)\n",
    "    visited_nodes.append(starting_node)\n",
    "    \n",
    "    while(not queue.empty()):\n",
    "        \n",
    "        current_node = queue.get()\n",
    "        BFS_path.append(current_node)\n",
    "        \n",
    "        if(current_node == target_node):\n",
    "            return BFS_path\n",
    "            \n",
    "        for neighbour_node in graph[current_node]:\n",
    "            if(neighbour_node not in visited_nodes):\n",
    "                queue.put(neighbour_node)\n",
    "                visited_nodes.append(neighbour_node)\n",
    "        \n",
    "    "
   ]
  },
  {
   "cell_type": "code",
   "execution_count": 4,
   "id": "4ef98335",
   "metadata": {},
   "outputs": [
    {
     "name": "stdout",
     "output_type": "stream",
     "text": [
      "Enter the source node: 5\n",
      "Enter the target node: 8\n",
      "[5, 3, 7, 2, 4, 8]\n"
     ]
    }
   ],
   "source": [
    "BFS_sNode = int(input(\"Enter the source node: \"))\n",
    "BFS_tNode = int(input(\"Enter the target node: \"))\n",
    "\n",
    "BFS_path = BFS(graph, BFS_sNode, BFS_tNode)\n",
    "print(BFS_path)"
   ]
  },
  {
   "cell_type": "markdown",
   "id": "f9969e89",
   "metadata": {},
   "source": [
    "DFS Implementation"
   ]
  },
  {
   "cell_type": "code",
   "execution_count": 5,
   "id": "72032cee",
   "metadata": {},
   "outputs": [],
   "source": [
    "DFS_path = []"
   ]
  },
  {
   "cell_type": "code",
   "execution_count": 6,
   "id": "c2b78846",
   "metadata": {},
   "outputs": [],
   "source": [
    "def DFS(graph, starting_node, target_node, path, visited = []):\n",
    "    path.append(starting_node)\n",
    "    visited.append(starting_node)\n",
    "    if starting_node == target_node:\n",
    "        return path\n",
    "    for neighbour_node in graph[starting_node]:\n",
    "        if neighbour_node not in visited:\n",
    "            result = DFS(graph, neighbour_node, target_node, path, visited)\n",
    "            if result is not None:\n",
    "                return result\n",
    "    path.pop()\n",
    "    return None\n",
    "    "
   ]
  },
  {
   "cell_type": "code",
   "execution_count": 7,
   "id": "95b0f3e4",
   "metadata": {},
   "outputs": [
    {
     "name": "stdout",
     "output_type": "stream",
     "text": [
      "Enter the source node: 5\n",
      "Enter the target node: 8\n",
      "[5, 3, 4, 8]\n"
     ]
    }
   ],
   "source": [
    "DFS_path = []\n",
    "DFS_sNode = int(input(\"Enter the source node: \"))\n",
    "DFS_tNode = int(input(\"Enter the target node: \"))\n",
    "DFS_path = DFS(graph, DFS_sNode, DFS_tNode, DFS_path)\n",
    "print(DFS_path)"
   ]
  },
  {
   "cell_type": "code",
   "execution_count": null,
   "id": "9a0ba0bc",
   "metadata": {},
   "outputs": [],
   "source": []
  }
 ],
 "metadata": {
  "kernelspec": {
   "display_name": "Python 3",
   "language": "python",
   "name": "python3"
  },
  "language_info": {
   "codemirror_mode": {
    "name": "ipython",
    "version": 3
   },
   "file_extension": ".py",
   "mimetype": "text/x-python",
   "name": "python",
   "nbconvert_exporter": "python",
   "pygments_lexer": "ipython3",
   "version": "3.7.3"
  }
 },
 "nbformat": 4,
 "nbformat_minor": 5
}
